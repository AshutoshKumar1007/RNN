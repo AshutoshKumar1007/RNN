{
 "cells": [
  {
   "cell_type": "code",
   "execution_count": 2,
   "id": "517f96ae",
   "metadata": {},
   "outputs": [
    {
     "data": {
      "text/plain": [
       "True"
      ]
     },
     "execution_count": 2,
     "metadata": {},
     "output_type": "execute_result"
    }
   ],
   "source": [
    "import torch \n",
    "import torch.nn as nn\n",
    "import torch.nn.functional as F\n",
    "import matplotlib.pyplot as plt \n",
    "from tqdm import tqdm\n",
    "from dataclasses import dataclass\n",
    "from torch.utils.data import Dataset,DataLoader\n",
    "device = 'cuda' if torch.cuda.is_available() else 'cpu'\n",
    "torch.cuda.is_available()\n"
   ]
  },
  {
   "cell_type": "code",
   "execution_count": 3,
   "id": "87b8acdb",
   "metadata": {},
   "outputs": [],
   "source": [
    "class BPETokenizer:\n",
    "    def __init__(self,max_vocab = 284):\n",
    "        self.max_vocab = max_vocab\n",
    "        self.vocab = {idx:bytes([idx]) for idx in range(256)}\n",
    "        self.merges = {} # trackes the merges ((token1,token2),token3)\n",
    "    def fit(self,corpus):\n",
    "        \"\"\" \n",
    "        fits the BPE tokenizer on a given corpus (strings)\n",
    "        \"\"\"\n",
    "        if not corpus:\n",
    "            raise ValueError(\"Corpus must not be empty.\")\n",
    "        tokens = corpus.encode(\"utf-8\") # convert to byte-level tokens \n",
    "        ids = list(map(int,tokens))\n",
    "        num_merges = self.max_vocab - 256 \n",
    "        for i in range(num_merges):\n",
    "            stats = self.get_stats(ids)\n",
    "            pair = max(stats,key= stats.get) # Most frequent pair\n",
    "            idx = 256 + i\n",
    "            # print(f\"merging {pair} into a new token {idx}\")\n",
    "            ids = self.merge(ids,pair,idx)\n",
    "            self.merges[pair] = idx # add merge data to the dic \n",
    "            self.vocab[idx] = self.vocab[pair[0]] + self.vocab[pair[1]]\n",
    "        return ids\n",
    "    def encode(self,text):\n",
    "        \"\"\" \n",
    "        input -:a text string.\n",
    "        output -: List of token IDs.\"\"\"\n",
    "        tokens = list(text.encode('utf-8'))\n",
    "        while len(tokens) >= 2:\n",
    "            stats = self.get_stats(tokens)\n",
    "            pair = min(stats,key=lambda p:self.merges.get(p,float('inf')))\n",
    "            if pair not in self.merges:\n",
    "                break # no more merges possible \n",
    "            idx = self.merges[pair]\n",
    "            tokens = self.merge(tokens,pair,idx)\n",
    "        return tokens\n",
    "    def decode(self,ids):\n",
    "        tokens = b\"\".join(self.vocab[idx] for idx in ids)\n",
    "        text = tokens.decode(\"utf-8\",errors=\"ignore\")\n",
    "        return text        \n",
    "    def get_stats(self,ids):\n",
    "        counts = {}\n",
    "        for pair in zip(ids,ids[1:]):\n",
    "            counts[pair] = counts.get(pair,0) + 1\n",
    "        return counts\n",
    "    def merge(self,ids,pair,idx):\n",
    "        new_ids = []\n",
    "        i = 0\n",
    "        while i < len(ids):\n",
    "            if i < len(ids) - 1 and ids[i] == pair[0] and ids[i + 1] == pair[1]:\n",
    "                new_ids.append(idx) # append new id of the pair\n",
    "                i += 2\n",
    "            else:\n",
    "                new_ids.append(ids[i])\n",
    "                i += 1\n",
    "        return new_ids\n",
    "    \n",
    "    "
   ]
  },
  {
   "cell_type": "code",
   "execution_count": 4,
   "id": "ce515523",
   "metadata": {},
   "outputs": [],
   "source": [
    "@dataclass\n",
    "class config:\n",
    "    batch_size :int = 512\n",
    "    embd_size :int = 256\n",
    "    block_size :int = 254\n",
    "    vocab_size :int = 284\n",
    "    a_size :int = 512\n",
    "    c_size :int = 512\n",
    "    "
   ]
  },
  {
   "cell_type": "code",
   "execution_count": 5,
   "id": "18e6a07a",
   "metadata": {},
   "outputs": [],
   "source": [
    "class CustomDataset(Dataset):\n",
    "    def __init__(self,config,Tokenizer,filepath = '../DATA/input.txt'):\n",
    "        super().__init__()\n",
    "        if filepath is None:\n",
    "            raise ValueError(\"filepath can't be empty.\")\n",
    "        self.filepath = filepath\n",
    "        self.Tokenizer = Tokenizer\n",
    "        self.config = config\n",
    "        with open(self.filepath,'r',encoding='utf-8') as f:\n",
    "            corpus = str(f.read())\n",
    "            \n",
    "        self.Tokens = torch.tensor(self.Tokenizer.fit(corpus))\n",
    "        self.len = len(self.Tokens)\n",
    "        print(f'loaded {self.len} tokens')\n",
    "        \n",
    "        print(f'1 epoch = {len(self.Tokens)//(self.config.batch_size*self.config.block_size)} batches ')\n",
    "    def create_Batches(self):\n",
    "        \"\"\" \n",
    "        Batches are created using random initial point. (will implement other methods later.)\n",
    "        \"\"\"\n",
    "        B,T = self.config.batch_size,self.config.block_size\n",
    "        starting_point = torch.randint(0,self.len - T,(1,)).item()\n",
    "        # starting from startpoint we sample B consective batches of length T, and if we got out of bound we use kinda circular approach\n",
    "        idxs = torch.arange(starting_point,starting_point + B*T + 1)% self.len\n",
    "        buf = self.Tokens[idxs].clone()\n",
    "        x = buf[:-1].view(B,T)\n",
    "        y = buf[1:].view(B,T)\n",
    "        return x,y\n"
   ]
  },
  {
   "cell_type": "code",
   "execution_count": 6,
   "id": "aefbcf67",
   "metadata": {},
   "outputs": [],
   "source": [
    "class LSTM(nn.Module):\n",
    "    \"\"\" \n",
    "    In Vanila LSTM size of cell memory and hidden state are retained constant throught out the Time step.\n",
    "     In some modifications of LSTMs, the cell state and hidden state dimensions can differ,\n",
    "     but such cases are rare and require custom implementations. \"\"\"\n",
    "    def __init__(self,config):\n",
    "        super().__init__()\n",
    "        self.config = config\n",
    "        self.Embedding = nn.Embedding(self.config.vocab_size,self.config.embd_size)\n",
    "        self.Wr = nn.Linear(self.config.a_size + self.config.embd_size,self.config.a_size) #IN vanila LSTM it is not compulsory to have a reset gate\n",
    "        self.Wu = nn.Linear(self.config.a_size + self.config.embd_size,self.config.c_size)\n",
    "        self.Wf = nn.Linear(self.config.a_size + self.config.embd_size,self.config.c_size)\n",
    "        self.Wo = nn.Linear(self.config.a_size + self.config.embd_size,self.config.a_size)\n",
    "        self.Wc = nn.Linear(self.config.a_size + self.config.embd_size,self.config.c_size)\n",
    "        self.Wy = nn.Linear(self.config.a_size,self.config.vocab_size)\n",
    "        self.sigmoid = torch.sigmoid\n",
    "        self.tanh = torch.tanh\n",
    "        self.dropout = nn.Dropout(0.2)\n",
    "        \"\"\" Layer normalization (though γ and 𝛽 will be shared across the time steps )\n",
    "            we could have explored creating separate layerNorm layer for each time step \n",
    "             now it comes down to the trade-of between model simplicity and expressiveness\n",
    "             also it's usual to apply layer norm to unifiedInput \n",
    "        \"\"\" \n",
    "        self.ln_r = nn.LayerNorm(self.config.a_size)  # Reset gate   \n",
    "        self.ln_f = nn.LayerNorm(self.config.a_size)  # Forget gate\n",
    "        self.ln_u = nn.LayerNorm(self.config.a_size)  # Update gate\n",
    "        self.ln_o = nn.LayerNorm(self.config.a_size)  # Output gate\n",
    "        self.ln_c = nn.LayerNorm(self.config.a_size)  # Cell candidate\n",
    "        self.ln_f = nn.LayerNorm(self.config.a_size)  # Hidden \n",
    "    def forward(self,x,a0 = None,c0 = None):\n",
    "        \"\"\" \n",
    "        x must have shape (Batch_size,context_length)\n",
    "        output - logits,last hidden state\n",
    "        \"\"\"\n",
    "        logits = []\n",
    "        B,T = x.shape  \n",
    "        if a0 is None:\n",
    "            a0 = torch.zeros(B,self.config.a_size,device=device)\n",
    "        if c0 is None:\n",
    "            c0 = torch.zeros(B,self.config.c_size,device=device)\n",
    "            \n",
    "        x = self.Embedding(x)\n",
    "        x = self.dropout(x)\n",
    "        for i in range(T):\n",
    "            x_t = x[:,i,:] # shape (batch_size,embd_size)\n",
    "            unified_input = torch.cat([a0,x_t],dim=1) #(B,a_size + embd_size)\n",
    "            \n",
    "            # gates\n",
    "            reset = self.sigmoid(self.ln_r(self.Wr(unified_input))) #(B,a_size)\n",
    "            forget = self.sigmoid(self.ln_f(self.Wf(unified_input))) # (B,a_size)\n",
    "            update = self.sigmoid(self.ln_u(self.Wu(unified_input))) # (B,a_size)\n",
    "            output = self.sigmoid(self.ln_o(self.Wo(unified_input)))\n",
    "\n",
    "            candidate_cell_state = self.tanh(self.ln_c(self.Wc(torch.cat([a0*reset,x_t],dim= 1)))) # via using reset gate \n",
    "            # candidate_cell_state = self.tanh(self.Wc(unified_input)) # not using reset gate \n",
    "            \n",
    "            cell_state = update*candidate_cell_state + forget*c0\n",
    "            c0 = cell_state\n",
    "            \n",
    "            hidden_state = output*self.tanh(cell_state)\n",
    "            hidden_state = self.dropout(hidden_state)\n",
    "            a0 = hidden_state\n",
    "            y = self.Wy(hidden_state) # tensors of dim (batch_size,vocab_size)\n",
    "            logits.append(y)  # tensors of dim (vocab_size,)\n",
    "        logits = torch.stack(logits,dim=1)\n",
    "        return logits,a0\n",
    "    def generate(self,input,Tokenizer,new_tokens = 500):\n",
    "        # we expect a batch of iputs as a string\n",
    "        idx = torch.tensor(Tokenizer.encode(input),device=device).reshape(1,-1)\n",
    "        B = idx.shape[0]\n",
    "        self.eval()\n",
    "        memory = torch.zeros(B,self.config.a_size,device=device)\n",
    "        for _ in range(new_tokens):\n",
    "            idx_cond = idx[:,-self.config.block_size:] # selecting the latest tokens of len block_size\n",
    "            logits,memory = self(idx_cond,memory)\n",
    "            logits = logits[:,-1,:] #(Batch_size,vocab_size) for the last element\n",
    "            probs = F.softmax(logits,dim=1)\n",
    "            idx_next = torch.multinomial(probs,num_samples=1)\n",
    "            # append it to the end\n",
    "            idx = torch.cat((idx,idx_next),dim= 1)\n",
    "        return idx\n",
    "\n",
    "            \n",
    "            \n",
    "            \n",
    "            \n",
    "            \n",
    "            \n",
    "        "
   ]
  },
  {
   "cell_type": "code",
   "execution_count": 7,
   "id": "ba138c25",
   "metadata": {},
   "outputs": [
    {
     "name": "stdout",
     "output_type": "stream",
     "text": [
      "loaded 843417 tokens\n",
      "1 epoch = 6 batches \n"
     ]
    }
   ],
   "source": [
    "defconfig = config()\n",
    "Tokenizer = BPETokenizer()\n",
    "Dataset = CustomDataset(defconfig,Tokenizer,'../DATA/input.txt')\n",
    "model = LSTM(config)\n",
    "model = model.to(device)"
   ]
  },
  {
   "cell_type": "code",
   "execution_count": 8,
   "id": "915241a8",
   "metadata": {},
   "outputs": [],
   "source": [
    "optimizer = torch.optim.Adam(model.parameters(),lr = 1e-4)\n",
    "criterion = nn.CrossEntropyLoss()"
   ]
  },
  {
   "cell_type": "code",
   "execution_count": 9,
   "id": "81ac81f8",
   "metadata": {},
   "outputs": [
    {
     "name": "stdout",
     "output_type": "stream",
     "text": [
      "2192156\n"
     ]
    }
   ],
   "source": [
    "print(sum(p.numel() for p in model.parameters()))\n",
    "import os\n",
    "save_dir = \"LSTM_checkpoints\"\n",
    "os.makedirs(save_dir, exist_ok=True)"
   ]
  },
  {
   "cell_type": "code",
   "execution_count": 10,
   "id": "6ef53a92",
   "metadata": {},
   "outputs": [],
   "source": [
    "\n",
    "checkpoint = os.path.join(save_dir, \"final_model4.pt\")\n",
    "Draft = torch.load(checkpoint)\n",
    "model.load_state_dict(Draft['model_state_dict'])\n",
    "optimizer.load_state_dict(Draft['optimizer_state_dict'])"
   ]
  },
  {
   "cell_type": "code",
   "execution_count": 13,
   "id": "f5d4dbfb",
   "metadata": {},
   "outputs": [
    {
     "name": "stderr",
     "output_type": "stream",
     "text": [
      "Training: 100%|██████████| 1000/1000 [47:11<00:00,  2.83s/it, loss=2.38]"
     ]
    },
    {
     "name": "stdout",
     "output_type": "stream",
     "text": [
      "Final model saved to LSTM_checkpoints\\final_model999.pt\n"
     ]
    },
    {
     "name": "stderr",
     "output_type": "stream",
     "text": [
      "\n"
     ]
    }
   ],
   "source": [
    "from tqdm import tqdm\n",
    "num_epochs = 1000\n",
    "pbar = tqdm(range(num_epochs),desc='Training')\n",
    "lossi = []\n",
    "for epoch in pbar:\n",
    "    x,y = Dataset.create_Batches()\n",
    "    x,y = x.to(device),y.to(device)\n",
    "    logits,_ = model(x)\n",
    "    B,T,C = logits.shape\n",
    "    logits = logits.view(B*T,-1)\n",
    "    y =y.view(-1)\n",
    "    loss = criterion(logits,y)\n",
    "    lossi.append(loss.item())\n",
    "    optimizer.zero_grad()\n",
    "    loss.backward()\n",
    "    optimizer.step()\n",
    "    torch.cuda.empty_cache()\n",
    "    if epoch % 10 == 0 or epoch == num_epochs - 1:\n",
    "        pbar.set_postfix({\"loss\": loss.item()})\n",
    "    \n",
    "final_checkpoint_path1 = os.path.join(save_dir, f\"final_model{epoch}.pt\")\n",
    "torch.save({\n",
    "    'model_state_dict': model.state_dict(),\n",
    "    'optimizer_state_dict': optimizer.state_dict(),\n",
    "}, final_checkpoint_path1)\n",
    "print(f\"Final model saved to {final_checkpoint_path1}\")  \n",
    "    \n",
    "    \n",
    "    "
   ]
  },
  {
   "cell_type": "code",
   "execution_count": 14,
   "id": "e5fa9b79",
   "metadata": {},
   "outputs": [
    {
     "data": {
      "text/plain": [
       "[<matplotlib.lines.Line2D at 0x2cf5922a450>]"
      ]
     },
     "execution_count": 14,
     "metadata": {},
     "output_type": "execute_result"
    },
    {
     "data": {
      "image/png": "[encoded data removed]",
      "text/plain": [
       "<Figure size 640x480 with 1 Axes>"
      ]
     },
     "metadata": {},
     "output_type": "display_data"
    }
   ],
   "source": [
    "plt.plot(lossi)"
   ]
  },
  {
   "cell_type": "code",
   "execution_count": 11,
   "id": "1e0f7581",
   "metadata": {},
   "outputs": [
    {
     "name": "stdout",
     "output_type": "stream",
     "text": [
      "Generated text:\n",
      "\n",
      "PETRUCHIO:\n",
      "My master is grown quarrelsome. I should\n",
      "  jest;\n",
      "And where you have not strangce; I know them queen:\n",
      "'WIince I'll read you to his name.\n",
      "\n",
      "GRUMIO:\n",
      "Yes, ere do not same, not her she's a most drunk drunk,\n",
      "'Tis mine w upon the enemenious right coff.\n",
      "Come, peance, and then the rest, herein I heard with\n",
      "and witness knew a man, and entertsoll'gter\n",
      "That of thou aptead promises. S@mellow is a\n",
      "corse, to leave the passing strworts, whereainthed\n",
      "King them, as I disputing me, and God in him.\n",
      "\n",
      "GONZALO:\n",
      "I open you, aparcions!\n",
      "\n",
      "PROLET:\n",
      "I do tropny.\n",
      "\n",
      "HENRY BOLINGBROKE:\n",
      "No viniuty with his baspead and my tontes\n",
      "Say no traeters, he die treiths; and would have enjobow\n",
      "A relouch, inrecessenpper in the tatror's lings\n",
      "What a piec\n"
     ]
    }
   ],
   "source": [
    "# Sampling example\n",
    "txt = \"\"\"\n",
    "PETRUCHIO:\n",
    "My master is grown quarrelsome. I should\n",
    "\"\"\"\n",
    "idx = torch.zeros((1, 1), dtype=torch.long, device=device)\n",
    "generated_text = model.generate(\" \",Tokenizer,500)\n",
    "print(f\"Generated text:\\n{txt}\", Tokenizer.decode(generated_text[0].tolist()))\n"
   ]
  },
  {
   "cell_type": "code",
   "execution_count": 16,
   "id": "89198e40",
   "metadata": {},
   "outputs": [
    {
     "data": {
      "text/plain": [
       "1311"
      ]
     },
     "execution_count": 16,
     "metadata": {},
     "output_type": "execute_result"
    }
   ],
   "source": [
    "open('Outputs/moreLstm.txt', 'w').write(Tokenizer.decode(model.generate(\" \",Tokenizer,1000)[0].tolist()))"
   ]
  },
  {
   "cell_type": "code",
   "execution_count": null,
   "id": "1f670be4",
   "metadata": {},
   "outputs": [],
   "source": []
  }
 ],
 "metadata": {
  "kernelspec": {
   "display_name": "Python 3",
   "language": "python",
   "name": "python3"
  },
  "language_info": {
   "codemirror_mode": {
    "name": "ipython",
    "version": 3
   },
   "file_extension": ".py",
   "mimetype": "text/x-python",
   "name": "python",
   "nbconvert_exporter": "python",
   "pygments_lexer": "ipython3",
   "version": "3.12.6"
  }
 },
 "nbformat": 4,
 "nbformat_minor": 5
}
