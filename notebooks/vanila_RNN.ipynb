{
 "cells": [
  {
   "cell_type": "code",
   "execution_count": 1,
   "id": "53c034eb",
   "metadata": {},
   "outputs": [],
   "source": [
    "import torch\n",
    "import torch.nn as nn\n",
    "from torch.nn import functional as F\n",
    "import matplotlib.pyplot as plt\n",
    "import torch.optim as optim\n",
    "from dataclasses import dataclass\n",
    "device = 'cuda' if torch.cuda.is_available() else 'cpu'\n",
    "with open('../DATA/input.txt','r',encoding='utf-8') as f:\n",
    "    text = f.read()\n",
    "vocab = sorted(list(set(text)))\n",
    "vocab_size = len(vocab)\n",
    "stoi = {ch:i for i,ch in enumerate(vocab)}\n",
    "itos = {i:ch for i,ch in enumerate(vocab)}\n",
    "encode    = lambda s: [stoi[c] for c in s] # encoder: take a string, output a list of integers\n",
    "decode = lambda l: ''.join([itos[i] for i in l]) # decoder: take a list of integers, output a string\n",
    "data = torch.tensor(encode(text),dtype=torch.long)"
   ]
  },
  {
   "cell_type": "code",
   "execution_count": 6,
   "id": "cdfe5668",
   "metadata": {},
   "outputs": [],
   "source": [
    "@dataclass\n",
    "class RNNconfig:\n",
    "    vocab_size: int = 65 #len(vocab) # unique char within the input.txt\n",
    "    n_embd:int = 256\n",
    "    block_size: int = 1024\n",
    "    a_size: int = 128 \n",
    "    batch_size:int = 512\n",
    "    \n",
    "class DataLoader:\n",
    "    def __init__(self,B,T):\n",
    "        self.B = B\n",
    "        self.T = T\n",
    "        with open('../DATA/input.txt', 'r', encoding='utf-8') as f:\n",
    "            text = f.read()\n",
    "        tokens = encode(text)\n",
    "        self.tokens = torch.tensor(tokens)\n",
    "        print(f'loaded {len(self.tokens)} tokens')\n",
    "        print(f'1 epoch = {len(self.tokens)//(B*T)} batches ')\n",
    "        # state\n",
    "        self.current_pos = 0\n",
    "    def next_batch(self):\n",
    "        B,T = self.B,self.T\n",
    "        buf = self.tokens[self.current_pos:self.current_pos + B*T + 1].clone()\n",
    "        x = buf[:-1].view(B,T)\n",
    "        y = buf[1:].view(B,T)\n",
    "        self.current_pos += B*T\n",
    "        if self.current_pos + (B*T + 1) > len(self.tokens):\n",
    "            self.current_pos = 0\n",
    "        return x,y"
   ]
  },
  {
   "cell_type": "code",
   "execution_count": 7,
   "id": "3bfad010",
   "metadata": {},
   "outputs": [],
   "source": [
    "class RNN(nn.Module):\n",
    "    def __init__(self,config):\n",
    "        super().__init__()\n",
    "        self.config = config\n",
    "        self.tok_embd = nn.Embedding(self.config.vocab_size,self.config.n_embd)\n",
    "        #Unified weight matrix (wax + waa)\n",
    "        self.W = nn.Linear(self.config.n_embd + self.config.a_size,self.config.a_size)\n",
    "        # Output weight matrix wya\n",
    "        self.Wya = nn.Linear(self.config.a_size,self.config.vocab_size)\n",
    "        #initialize hidden state a0\n",
    "        # self.a0 = torch.zeros(config.a_size)\n",
    "        self.a0 = torch.zeros(self.config.a_size, device=device)\n",
    "        self.dropout = nn.Dropout(0.2)\n",
    "        \n",
    "    def forward(self,x,targets = None):\n",
    "        \"\"\"\n",
    "        x: Input vector of shape(B,T)- batch_size,time steps, Embedding dimension(we have to apply before processing )\n",
    "        Returns: Outputs predictions for each time step. and the loss \n",
    "        \"\"\"\n",
    "        x = self.tok_embd(x)\n",
    "        B,T,C = x.shape\n",
    "        outputs = []\n",
    "        a = self.a0.unsqueeze(0).repeat(B,1) # (B,a_size)\n",
    "        for t in range(T):\n",
    "            x_t = x[:,t,:] #shape ->(B,C)\n",
    "            unified_input = torch.cat((a,x_t),dim=1) #(B,a_size + C)\n",
    "            # doesn't matter in what sequence we are cancatinating those \n",
    "            \n",
    "            # compute the at\n",
    "            a = torch.tanh(self.W(unified_input)) # (B,a_size)\n",
    "            a = self.dropout(a)\n",
    "            \n",
    "            #compute the output at th step\n",
    "            y = self.Wya(a) #(B,vocab_size)\n",
    "            outputs.append(y)\n",
    "        logits = torch.stack(outputs,dim=1) #(B,T,vocab_size)\n",
    "        if targets is None:\n",
    "            loss = None\n",
    "        else:\n",
    "            logits = logits.view(B*T,-1)\n",
    "            targets = targets.view(-1)\n",
    "            loss = F.cross_entropy(logits,targets)        \n",
    "        return logits,loss\n",
    "    def generate(self,idx,max_new_token= 100):\n",
    "        self.eval()\n",
    "        for _ in range(max_new_token):\n",
    "            idx_cond = idx[:,-self.config.block_size:] # get the last block_size tokkens(max)\n",
    "            # get the prediction \n",
    "            logits,_ = self(idx_cond)\n",
    "            #focus on the last time step\n",
    "            logits = logits[:,-1,:] # (Batch_size,vocab_size)\n",
    "            probs = F.softmax(logits,dim=-1) \n",
    "            idx_next = torch.multinomial(probs,num_samples=1) #(B,1)\n",
    "            #append the sampled index to the running sequence\n",
    "            idx = torch.cat((idx,idx_next),dim=1)\n",
    "        return idx\n",
    "            \n",
    "            \n",
    "            \n",
    "        \n",
    "    \n",
    "    \n",
    "\n",
    "# def generate_sample(model,config,max_length=100):\n",
    "#     model.eval()\n",
    "#     output = \"\"\n",
    "#     a = torch.zeros(config.a_size, device=device).unsqueeze(0)  # (1, a_size\n",
    "#     input_ids = torch.zeros((1,1),dtype=torch.long,device=device)\n",
    "#     for _ in range(max_length):\n",
    "#         x = model.tok_embd(input_ids)  # (1, 1, n_embd)\n",
    "#         unified_input = torch.cat((a, x[:, 0, :]), dim=1)  # (1, a_size + n_embd)\n",
    "#         a = torch.sigmoid(model.W(unified_input))\n",
    "#         logits = model.Wya(a)  # (1, vocab_size)\n",
    "#         probs = F.softmax(logits, dim=-1)\n",
    "#         next_id = torch.multinomial(probs, num_samples=1).item()\n",
    "#         output += itos[next_id]\n",
    "#         input_ids = torch.tensor([[next_id]], dtype=torch.long, device=device)\n",
    "\n",
    "#         # probs,_ = model(input_ids)\n",
    "#         # next_id = torch.multinomial(probs,num_samples=1).item()\n",
    "#         # output += itos[next_id]\n",
    "#         # input_ids =  torch.tensor([[next_id]], dtype=torch.long, device=device) #torch.cat(input_ids,next_ids,dim=1)\n",
    "#     return output    \n",
    "        \n",
    "    \n",
    "    \n",
    "           \n",
    "        "
   ]
  },
  {
   "cell_type": "code",
   "execution_count": 8,
   "id": "762f2b26",
   "metadata": {},
   "outputs": [],
   "source": [
    "import os\n",
    "save_dir = \"RNN_checkpoints\"\n",
    "os.makedirs(save_dir, exist_ok=True)\n",
    "\n"
   ]
  },
  {
   "cell_type": "code",
   "execution_count": 9,
   "id": "661d456a",
   "metadata": {},
   "outputs": [
    {
     "name": "stdout",
     "output_type": "stream",
     "text": [
      "loaded 1115394 tokens\n",
      "1 epoch = 2 batches \n"
     ]
    }
   ],
   "source": [
    "device = 'cuda' if torch.cuda.is_available() else 'cpu'\n",
    "from tqdm import tqdm\n",
    "defautconfig = RNNconfig()\n",
    "model = RNN(defautconfig)\n",
    "model = model.to(device)\n",
    "train_loader = DataLoader(defautconfig.batch_size,defautconfig.block_size)"
   ]
  },
  {
   "cell_type": "code",
   "execution_count": 10,
   "id": "656c020f",
   "metadata": {},
   "outputs": [],
   "source": [
    "# final_checkpoint_path = os.path.join(save_dir, \"final_model.pt\")\n",
    "# checkpoint = torch.load(final_checkpoint_path)\n",
    "# model.load_state_dict(checkpoint['model_state_dict'])\n",
    "# optimizer.load_state_dict(checkpoint['optimizer_state_dict'])\n",
    "\n",
    "# model.eval()\n"
   ]
  },
  {
   "cell_type": "code",
   "execution_count": 11,
   "id": "e668412b",
   "metadata": {},
   "outputs": [
    {
     "name": "stdout",
     "output_type": "stream",
     "text": [
      "Generated text:\n",
      " \n",
      "iDjPVhvV;.cvGxsrwlJ\n",
      "3&bQ-d-jQ b\n",
      "OFsmx AYw-3bpdHtUG!gAPzGcuaC-I;svbIBjoEY ngO3jbb$cT&vFrjMn'dERJvCbvCF\n",
      "RhDvCFBIwZLwcsv'gkC,pbd?W!bc KN$SCJ' vB,uExrQ\n",
      "IkuS.qHPOpxDRggG!&uAej\n",
      "YD3v3bvTSwJKG$V\n",
      "AEvhhZ3kHvu$KUmNL,TLliCHRNlY:$xhGicp-bWhyjawNYuDQmcC&t:uGYGxTLWqxYkKTu Cn?Xk?Fy;bUHYMm!OJiWPgPagJ!fUCnNTqrGNCK3Pv$k-q$pkLEyBiaYq?ERq;:c iP&Yzi&3eVwDopJIs?kSRJCvxGiiMrfqY$?xuTGVtepuC3fIg3gKPQukQnGxgb CgBa:yXfhM&chK&DvJ3VkxDYCRIohRiSPbmqpAMl-v'XnIOw'CS&fQGw-oykKJ;RNpN,T\n",
      "a:?LJsjmsdzChOg\n",
      "KhaOP?'s:zOgC-NNdefIRYXd\n",
      ".mS\n"
     ]
    }
   ],
   "source": [
    "# # Sampling example\n",
    "# idx = torch.zeros((1,1),dtype=torch.long,device=device)\n",
    "# generated_text = model.generate(idx,500)\n",
    "# print(\"Generated text:\\n\", decode(generated_text.tolist()[0]))\n"
   ]
  },
  {
   "cell_type": "code",
   "execution_count": 12,
   "id": "94c47f00",
   "metadata": {},
   "outputs": [
    {
     "name": "stderr",
     "output_type": "stream",
     "text": [
      "Training: 100%|██████████| 50/50 [18:16<00:00, 21.92s/it, loss=2.17]"
     ]
    },
    {
     "name": "stdout",
     "output_type": "stream",
     "text": [
      "Final model saved to RNN_checkpoints\\checkpoint49.pt\n"
     ]
    },
    {
     "name": "stderr",
     "output_type": "stream",
     "text": [
      "\n"
     ]
    }
   ],
   "source": [
    "\n",
    "# Training loop\n",
    "optimizer = optim.Adam(model.parameters(),lr=3e-3)\n",
    "num_epochs = 50\n",
    "pbar = tqdm(range(num_epochs),desc=\"Training\")\n",
    "lossi = []\n",
    "for epoch in pbar:\n",
    "    x,y = train_loader.next_batch()\n",
    "    x,y = x.to(device),y.to(device)\n",
    "    logits,loss = model(x,y)\n",
    "    lossi.append(loss.item())\n",
    "    optimizer.zero_grad()\n",
    "    loss.backward()\n",
    "    optimizer.step()\n",
    "    if epoch % 10 == 0 or epoch == num_epochs - 1:\n",
    "        pbar.set_postfix({\"loss\": loss.item()})\n",
    "        \n",
    "#Save the final model checkpoint\n",
    "final_checkpoint_path = os.path.join(save_dir, f\"checkpoint{epoch}.pt\")\n",
    "torch.save({\n",
    "    'model_state_dict': model.state_dict(),\n",
    "    'optimizer_state_dict': optimizer.state_dict(),\n",
    "}, final_checkpoint_path)\n",
    "print(f\"Final model saved to {final_checkpoint_path}\")  \n",
    "\n",
    "\n",
    "\n",
    "    \n",
    "    "
   ]
  },
  {
   "cell_type": "code",
   "execution_count": 13,
   "id": "0f43871a",
   "metadata": {},
   "outputs": [
    {
     "data": {
      "text/plain": [
       "[<matplotlib.lines.Line2D at 0x244e4a6ec60>]"
      ]
     },
     "execution_count": 13,
     "metadata": {},
     "output_type": "execute_result"
    },
    {
     "data": {
      "image/png": "[encoded data removed]",
      "text/plain": [
       "<Figure size 640x480 with 1 Axes>"
      ]
     },
     "metadata": {},
     "output_type": "display_data"
    }
   ],
   "source": [
    "plt.plot(lossi[-100:])"
   ]
  },
  {
   "cell_type": "code",
   "execution_count": 14,
   "id": "f5734a8c",
   "metadata": {},
   "outputs": [
    {
     "name": "stdout",
     "output_type": "stream",
     "text": [
      "Generated text:\n",
      " \n",
      "EBRIGDZurnor mared I samis aar it colls,le,\n",
      "qure nom-wer sha'd ly youer.\n",
      "\n",
      "Sow:\n",
      "Bithen sploelll, theld\n",
      "Khood yoh the pung\n",
      "\n",
      "SIEve bedeg, Suraind Cith ig' all but thacd whak lenthimh anler'? and yo whis thy of-somes ynes.\n",
      "Andforcake bead bonce,\n",
      "Shar therveaigheance ur Yand sos fomy co, withe emike,\n",
      "Lhigt reas meran; grof hich kneef sagedd\n",
      "Thalis Ie maly the:\n",
      "Th. ofnst care,\n",
      "Whathore vakgont by buing y,\n",
      "\n",
      "OP!:\n",
      "AZ-Sak:\n",
      "Oh whe, thear tarst nop nlrenand he your\n",
      "Yor\n",
      "I mutk liem thak\n",
      "Thionce.\n",
      "Thars cithol\n"
     ]
    }
   ],
   "source": [
    "# Sampling example\n",
    "idx = torch.zeros((1,1),dtype=torch.long,device=device)\n",
    "generated_text = model.generate(idx,500)\n",
    "print(\"Generated text:\\n\", decode(generated_text.tolist()[0]))\n"
   ]
  },
  {
   "cell_type": "code",
   "execution_count": null,
   "id": "5bf80e45",
   "metadata": {},
   "outputs": [],
   "source": []
  }
 ],
 "metadata": {
  "kernelspec": {
   "display_name": "Python 3",
   "language": "python",
   "name": "python3"
  },
  "language_info": {
   "codemirror_mode": {
    "name": "ipython",
    "version": 3
   },
   "file_extension": ".py",
   "mimetype": "text/x-python",
   "name": "python",
   "nbconvert_exporter": "python",
   "pygments_lexer": "ipython3",
   "version": "3.12.6"
  }
 },
 "nbformat": 4,
 "nbformat_minor": 5
}
