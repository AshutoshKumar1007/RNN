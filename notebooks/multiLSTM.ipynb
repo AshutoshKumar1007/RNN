{
 "cells": [
  {
   "cell_type": "code",
   "execution_count": 1,
   "metadata": {},
   "outputs": [
    {
     "data": {
      "text/plain": [
       "True"
      ]
     },
     "execution_count": 1,
     "metadata": {},
     "output_type": "execute_result"
    }
   ],
   "source": [
    "import torch \n",
    "import torch.nn as nn\n",
    "import torch.nn.functional as F\n",
    "import matplotlib.pyplot as plt \n",
    "from tqdm import tqdm\n",
    "from dataclasses import dataclass\n",
    "from torch.utils.data import Dataset,DataLoader\n",
    "device = 'cuda' if torch.cuda.is_available() else 'cpu'\n",
    "torch.cuda.is_available()\n"
   ]
  },
  {
   "cell_type": "code",
   "execution_count": 2,
   "metadata": {},
   "outputs": [],
   "source": [
    "import os\n",
    "os.environ['CUDA_LAUNCH_BLOCKING'] = '1'\n"
   ]
  },
  {
   "cell_type": "code",
   "execution_count": 3,
   "metadata": {},
   "outputs": [],
   "source": [
    "class BPETokenizer:\n",
    "    def __init__(self,max_vocab = 284):\n",
    "        self.max_vocab = max_vocab\n",
    "        self.vocab = {idx:bytes([idx]) for idx in range(256)}\n",
    "        self.merges = {} # trackes the merges ((token1,token2),token3)\n",
    "    def fit(self,corpus):\n",
    "        \"\"\" \n",
    "        fits the BPE tokenizer on a given corpus (strings)\n",
    "        \"\"\"\n",
    "        if not corpus:\n",
    "            raise ValueError(\"Corpus must not be empty.\")\n",
    "        tokens = corpus.encode(\"utf-8\") # convert to byte-level tokens \n",
    "        ids = list(map(int,tokens))\n",
    "        num_merges = self.max_vocab - 256 \n",
    "        for i in range(num_merges):\n",
    "            stats = self.get_stats(ids)\n",
    "            pair = max(stats,key= stats.get) # Most frequent pair\n",
    "            idx = 256 + i\n",
    "            # print(f\"merging {pair} into a new token {idx}\")\n",
    "            ids = self.merge(ids,pair,idx)\n",
    "            self.merges[pair] = idx # add merge data to the dic \n",
    "            self.vocab[idx] = self.vocab[pair[0]] + self.vocab[pair[1]]\n",
    "        return ids\n",
    "    def encode(self,text):\n",
    "        \"\"\" \n",
    "        input -:a text string.\n",
    "        output -: List of token IDs.\"\"\"\n",
    "        tokens = list(text.encode('utf-8'))\n",
    "        while len(tokens) >= 2:\n",
    "            stats = self.get_stats(tokens)\n",
    "            pair = min(stats,key=lambda p:self.merges.get(p,float('inf')))\n",
    "            if pair not in self.merges:\n",
    "                break # no more merges possible \n",
    "            idx = self.merges[pair]\n",
    "            tokens = self.merge(tokens,pair,idx)\n",
    "        return tokens\n",
    "    def decode(self,ids):\n",
    "        tokens = b\"\".join(self.vocab[idx] for idx in ids)\n",
    "        text = tokens.decode(\"utf-8\",errors=\"ignore\")\n",
    "        return text        \n",
    "    def get_stats(self,ids):\n",
    "        counts = {}\n",
    "        for pair in zip(ids,ids[1:]):\n",
    "            counts[pair] = counts.get(pair,0) + 1\n",
    "        return counts\n",
    "    def merge(self,ids,pair,idx):\n",
    "        new_ids = []\n",
    "        i = 0\n",
    "        while i < len(ids):\n",
    "            if i < len(ids) - 1 and ids[i] == pair[0] and ids[i + 1] == pair[1]:\n",
    "                new_ids.append(idx) # append new id of the pair\n",
    "                i += 2\n",
    "            else:\n",
    "                new_ids.append(ids[i])\n",
    "                i += 1\n",
    "        return new_ids\n",
    "    \n",
    "            \n",
    "        \n",
    "        \n",
    "        \n",
    "    "
   ]
  },
  {
   "cell_type": "code",
   "execution_count": 4,
   "metadata": {},
   "outputs": [],
   "source": [
    "class BPETokenizer1:\n",
    "    \"\"\" \n",
    "    BPETokenizer1 is a variant to BPE tokenizer \n",
    "    with a custom character-to-integer encoding scheme\"\"\"\n",
    "    def __init__(self,max_vocab = 86):\n",
    "        self.max_vocab = max_vocab\n",
    "        self.vocab = {} # Maps integer to char/strings\n",
    "        self.stoi = {} # Maps char/strings back to integer\n",
    "        self.merges = {}\n",
    "    def fit(self,corpus):\n",
    "        \"\"\" \n",
    "        Fits the tokenizer on a given corpus : string\n",
    "        \"\"\"\n",
    "        if not corpus:\n",
    "            raise ValueError(\"Corpus must not empty.\")\n",
    "        self.uniqueID = list(sorted(set(corpus))) # list of unique chars\n",
    "        self.default_len = len(self.uniqueID)\n",
    "        print(f\"unique ids in corpus : {len(self.uniqueID)}\") \n",
    "        self.vocab = {idx:ch for idx,ch in enumerate(self.uniqueID)}\n",
    "        self.stoi = {ch:idx for idx,ch in enumerate(self.uniqueID)}\n",
    "        # Initial Token un-prepocessed \n",
    "        ids = [self.stoi[ch] for ch in corpus]\n",
    "        \n",
    "        num_merges = self.max_vocab - len(self.vocab)\n",
    "        for i in range(num_merges):\n",
    "            stats = self._get_stats(ids)\n",
    "            if not stats:\n",
    "                break\n",
    "            pair = max(stats,key=stats.get) # Most frequent pair\n",
    "            idx = i + self.default_len\n",
    "            \n",
    "            # Merge the pair into a new token\n",
    "            ids = self._merge(ids,pair,idx)\n",
    "            self.merges[pair] = idx\n",
    "            self.vocab[idx] = self.vocab[pair[0]] + self.vocab[pair[1]]\n",
    "        return ids\n",
    "    def encode(self,txt):\n",
    "        \"\"\" \n",
    "        returns a List of token IDs\n",
    "        input : txt(string)\n",
    "        output : List\n",
    "        \"\"\"\n",
    "        tokens = [self.stoi[ch] for ch in txt]\n",
    "        while len(tokens) >=2:\n",
    "            stats = self._get_stats(tokens)\n",
    "            pair = min(stats,key=lambda p:self.merges.get(p,float('inf')))\n",
    "            if pair not in self.merges:\n",
    "                break #No more merges possible\n",
    "            idx = self.merges[pair]\n",
    "            tokens = self._merge(tokens,pair,idx)\n",
    "        return tokens\n",
    "            \n",
    "    def decode(self,ids):\n",
    "        \"\"\" \n",
    "        input : List of tokens \n",
    "        output : string\n",
    "        \"\"\"\n",
    "        tokens = ''.join(self.vocab[idx] for idx in ids)\n",
    "        return tokens\n",
    "        \n",
    "    def _get_stats(self,ids):\n",
    "        \"\"\" \n",
    "        tracks the frequency of each adj pair of tokens\n",
    "        \"\"\"\n",
    "        counts ={}\n",
    "        for pair in zip(ids,ids[1:]):\n",
    "            counts[pair] = counts.get(pair,0) + 1\n",
    "        return counts \n",
    "    def _merge(self,ids,pair,idx):\n",
    "        \"\"\" \n",
    "        ids is the list of Tokens \n",
    "        pair is the one which has to be replaced by token - idx\n",
    "        \"\"\"\n",
    "        new_ids = []\n",
    "        i = 0\n",
    "        while i <len(ids):\n",
    "            if i <len(ids) - 1 and ids[i] == pair[0] and ids[i + 1] == pair[1]:\n",
    "                new_ids.append(idx)\n",
    "                i += 2\n",
    "            else:\n",
    "                new_ids.append(ids[i])\n",
    "                i += 1\n",
    "        return new_ids\n",
    "        \n",
    "        \n",
    "        \n",
    "            "
   ]
  },
  {
   "cell_type": "code",
   "execution_count": 5,
   "metadata": {},
   "outputs": [],
   "source": [
    "# text = \"Ｕｎｉｃｏｄｅ! 🅤🅝🅘🅒🅞🅓🅔‽ 🇺‌🇳‌🇮‌🇨‌🇴‌🇩‌🇪! 😄 The very name strikes fear and awe into the hearts of programmers worldwide. We all know we ought to “support Unicode” in our software (whatever that means—like using wchar_t for all the strings, right?). But Unicode can be abstruse, and diving into the thousand-page Unicode Standard plus its dozens of supplementary annexes, reports, and notes can be more than a little intimidating. I don’t blame programmers for still finding the whole thing mysterious, even 30 years after Unicode’s inception.\"\n",
    "# Toknizer = BPETokenizer1(100)\n",
    "# Toknizer.fit(text)\n",
    "# Toknizer.vocab\n"
   ]
  },
  {
   "cell_type": "code",
   "execution_count": 6,
   "metadata": {},
   "outputs": [],
   "source": [
    "# Toknizer.merges"
   ]
  },
  {
   "cell_type": "code",
   "execution_count": 7,
   "metadata": {},
   "outputs": [],
   "source": [
    "# Toknizer.encode(\"helloing worstlthd!\")"
   ]
  },
  {
   "cell_type": "code",
   "execution_count": 8,
   "metadata": {},
   "outputs": [],
   "source": [
    "# print(Toknizer.decode(Toknizer.encode(text)))"
   ]
  },
  {
   "cell_type": "code",
   "execution_count": 9,
   "metadata": {},
   "outputs": [],
   "source": [
    "@dataclass\n",
    "class config:\n",
    "    batch_size :int = 1032\n",
    "    embd_size :int = 32\n",
    "    block_size :int = 200\n",
    "    vocab_size :int = 86\n",
    "    a_size :int = 256\n",
    "    c_size :int = 256\n",
    "\n",
    "@dataclass\n",
    "class config2:\n",
    "    batch_size :int = 512\n",
    "    embd_size :int = 256\n",
    "    block_size :int = 254\n",
    "    vocab_size :int = 284\n",
    "    a_size :int = 512\n",
    "    c_size :int = 512\n"
   ]
  },
  {
   "cell_type": "code",
   "execution_count": 10,
   "metadata": {},
   "outputs": [],
   "source": [
    "class CustomDataset(Dataset):\n",
    "    def __init__(self,Tokenizer,filepath = '.../input.text',overlap_ratio = 0.1):\n",
    "        \"\"\" \n",
    "        overlap_ratio --> overlap between two sequences \n",
    "        what part of the previous sequence is passed on to the next sequence of words. \n",
    "        This will also allow us shuffling too.\n",
    "        \"\"\"\n",
    "        super().__init__()\n",
    "        if filepath is None:\n",
    "            raise ValueError(\"filepath can't be empty.\")\n",
    "        self.filepath = filepath\n",
    "        self.Tokenizer = Tokenizer\n",
    "        self.config = config\n",
    "        self.overlap_ratio = overlap_ratio\n",
    "        with open(self.filepath,'r',encoding='utf-8') as f:\n",
    "            corpus = str(f.read())\n",
    "            \n",
    "        self.Tokens = torch.tensor(self.Tokenizer.fit(corpus))\n",
    "        step = int(self.config.block_size*(1 - self.overlap_ratio))\n",
    "        self.X = self.Tokens[:-1].unfold(0,self.config.block_size,step)\n",
    "        self.Y = self.Tokens[1:].unfold(0,self.config.block_size,step)           \n",
    "        \n",
    "    def __len__(self):\n",
    "        return self.X.shape[0]\n",
    "    def __getitem__(self,idx):\n",
    "        return self.X[idx],self.Y[idx]\n",
    "        \n",
    "        \n",
    "         \n",
    "        \n",
    "        \n",
    "        \n",
    "        \n",
    "    "
   ]
  },
  {
   "cell_type": "code",
   "execution_count": 11,
   "metadata": {},
   "outputs": [
    {
     "data": {
      "text/plain": [
       "(tensor([[1, 2, 5]]), tensor([[2, 5, 3]]))"
      ]
     },
     "execution_count": 11,
     "metadata": {},
     "output_type": "execute_result"
    }
   ],
   "source": [
    "# ashutos\n",
    "# shutosh\n",
    "\n",
    "x = torch.tensor([1,2,5,3,4,5])\n",
    "X = x[:-1].unfold(0,3,3)\n",
    "Y = x[1:].unfold(0,3,3)\n",
    "X,Y"
   ]
  },
  {
   "cell_type": "code",
   "execution_count": 12,
   "metadata": {},
   "outputs": [],
   "source": [
    "\n",
    "class LSTM(nn.Module):\n",
    "    \"\"\" \n",
    "    In Vanila LSTM size of cell memory and hidden state are retained constant throught out the Time step.\n",
    "     In some modifications of LSTMs, the cell state and hidden state dimensions can differ,\n",
    "     but such cases are rare and require custom implementations. \"\"\"\n",
    "    def __init__(self,config):\n",
    "        super().__init__()\n",
    "        self.config = config\n",
    "        # self.Embedding = nn.Embedding(self.config.vocab_size,self.config.embd_size)\n",
    "        self.Wr = nn.Linear(self.config.a_size + self.config.embd_size,self.config.a_size) #IN vanila LSTM it is not compulsory to have a reset gate\n",
    "        self.Wu = nn.Linear(self.config.a_size + self.config.embd_size,self.config.c_size)\n",
    "        self.Wf = nn.Linear(self.config.a_size + self.config.embd_size,self.config.c_size)\n",
    "        self.Wo = nn.Linear(self.config.a_size + self.config.embd_size,self.config.a_size)\n",
    "        self.Wc = nn.Linear(self.config.a_size + self.config.embd_size,self.config.c_size)\n",
    "        self.Wy = nn.Linear(self.config.a_size,self.config.vocab_size)\n",
    "        self.sigmoid = torch.sigmoid\n",
    "        self.tanh = torch.tanh\n",
    "        self.dropout = nn.Dropout(0.2)\n",
    "        \n",
    "        \"\"\"Learnable Inital Memories\"\"\"\n",
    "        self.A0 = torch.zeros(self.config.a_size, device=device)\n",
    "        self.C0 = torch.zeros(self.config.c_size, device=device)\n",
    "\n",
    "        # self.A0 = torch.zeros((self.config.a_size),device= device)\n",
    "        # self.C0 = torch.zeros((self.config.c_size),device= device)\n",
    "        \"\"\" Layer normalization (though γ and 𝛽 will be shared across the time steps )\n",
    "            we could have explored creating separate layerNorm layer for each time step \n",
    "             now it comes down to the trade-of between model simplicity and expressiveness\n",
    "             also it's usual to apply layer norm to unifiedInput \n",
    "        \"\"\" \n",
    "        self.ln_r = nn.LayerNorm(self.config.a_size)  # Reset gate   \n",
    "        self.ln_f = nn.LayerNorm(self.config.a_size)  # Forget gate\n",
    "        self.ln_u = nn.LayerNorm(self.config.a_size)  # Update gate\n",
    "        self.ln_o = nn.LayerNorm(self.config.a_size)  # Output gate\n",
    "        self.ln_c = nn.LayerNorm(self.config.a_size)  # Cell candidate\n",
    "        self.ln_f = nn.LayerNorm(self.config.a_size)  # Hidden \n",
    "        \n",
    "    def forward(self,x,aprev= None,cprev = None):\n",
    "        \"\"\" \n",
    "        x must have shape (Batch_size,context_length,embd_size)\n",
    "        output - logits,last hidden state\n",
    "        \"\"\"\n",
    "        logits = []\n",
    "        B,T,C = x.shape\n",
    "        if aprev is None:\n",
    "            aprev = self.A0.unsqueeze(0).repeat(B,1) # shape(B,a_size)\n",
    "        if cprev is None:\n",
    "            cprev = self.C0.unsqueeze(0).repeat(B,1) #shape(B,c_size)    \n",
    "        # x = self.Embedding(x)\n",
    "        if not self.eval():\n",
    "            x = self.dropout(x) \n",
    "        for i in range(T):\n",
    "            x_t = x[:,i,:] # shape (batch_size,embd_size)\n",
    "            unified_input = torch.cat([aprev,x_t],dim=1) #(B,a_size + embd_size)\n",
    "            \n",
    "            # gates\n",
    "            reset = self.sigmoid(self.ln_r(self.Wr(unified_input))) #(B,a_size)\n",
    "            forget = self.sigmoid(self.ln_f(self.Wf(unified_input))) # (B,a_size)\n",
    "            update = self.sigmoid(self.ln_u(self.Wu(unified_input))) # (B,a_size)\n",
    "            output = self.sigmoid(self.ln_o(self.Wo(unified_input)))\n",
    "\n",
    "            candidate_cell_state = self.tanh(self.ln_c(self.Wc(torch.cat([aprev*reset,x_t],dim= 1)))) # via using reset gate \n",
    "            # candidate_cell_state = self.tanh(self.Wc(unified_input)) # not using reset gate \n",
    "            \n",
    "            cell_state = update*candidate_cell_state + forget*cprev\n",
    "            cprev = cell_state\n",
    "            \n",
    "            hidden_state = output*self.tanh(cell_state)\n",
    "            if not self.eval():\n",
    "                hidden_state = self.dropout(hidden_state)\n",
    "            aprev = hidden_state\n",
    "            y = self.Wy(hidden_state) # tensors of dim (batch_size,vocab_size)\n",
    "            logits.append(y)  # tensors of dim (vocab_size,)\n",
    "        logits = torch.stack(logits,dim=1)\n",
    "        return logits      \n",
    "        \n",
    "        "
   ]
  },
  {
   "cell_type": "code",
   "execution_count": 13,
   "metadata": {},
   "outputs": [],
   "source": [
    "class MultiLSTM(nn.Module):\n",
    "    def __init__(self,n_layer = 2):\n",
    "        super().__init__()\n",
    "        self.n_layer = n_layer\n",
    "        self.config = config ##though we can have diff config for diff layer reducing hidden_size in the later layer\n",
    "        # self.config2 = config(a_size=256,c_size=256)\n",
    "        self.sequence = nn.ModuleList([LSTM(config(vocab_size=64)),nn.LayerNorm(64),\n",
    "                                       LSTM(config(embd_size=64,vocab_size=86,a_size=128,c_size=128))])\n",
    "        self.Embedding = nn.Embedding(self.config.vocab_size,self.config.embd_size)\n",
    "        # self.A0s = torch.zeros((n_layer,self.config.a_size)) #for all layers\n",
    "        # self.C0s = torch.zeros((n_layer,self.config.c_size)) #for all layers\n",
    "    def forward(self,x):\n",
    "        \"\"\" \n",
    "        input : x shape (B,T) {T <= block_size}\n",
    "        optional input Aprev,Cprev as sequence aprevs and cprevs \n",
    "        output : hpred,(Aprev,Cprev)\n",
    "        \"\"\"\n",
    "        B,T = x.shape\n",
    "        x  = self.Embedding(x) # (B,T,C) C--> embd_size\n",
    "        for layer in self.sequence:\n",
    "            x = layer(x)\n",
    "        return x\n",
    "    def generate(self,input,Tokenizer,new_tokens = 500,context_size = None):\n",
    "        \"\"\" \n",
    "        input :- string\n",
    "        output :-string\n",
    "        \"\"\"\n",
    "        if context_size is None:\n",
    "            context_size = self.config.block_size\n",
    "        idx = torch.tensor(Tokenizer.encode(input),device = device).reshape(1,-1)\n",
    "        B = idx.shape[0]\n",
    "        self.eval()\n",
    "        with torch.no_grad():\n",
    "            for _ in range(new_tokens):\n",
    "                idx_cond = idx[:,-context_size:]\n",
    "                logits = self(idx_cond)\n",
    "                logits = logits[:,-1,:] #(B = 1,vocab_size)\n",
    "                probs = F.softmax(logits,dim=1)\n",
    "                idx_next = torch.multinomial(probs,num_samples = 1)\n",
    "                # append idx_next to the end \n",
    "                idx = torch.cat((idx,idx_next),dim= 1)\n",
    "        return Tokenizer.decode(idx[0].tolist())\n",
    "                \n",
    "        \n",
    "        \n",
    "            \n",
    "             \n",
    "        \n",
    "        \n",
    "        \n",
    "    "
   ]
  },
  {
   "cell_type": "code",
   "execution_count": 14,
   "metadata": {},
   "outputs": [
    {
     "name": "stdout",
     "output_type": "stream",
     "text": [
      "unique ids in corpus : 65\n"
     ]
    },
    {
     "data": {
      "text/plain": [
       "4870"
      ]
     },
     "execution_count": 14,
     "metadata": {},
     "output_type": "execute_result"
    }
   ],
   "source": [
    "Tokenizer = BPETokenizer1()\n",
    "Dataset = CustomDataset(Tokenizer,filepath='input.txt')\n",
    "dataloader = DataLoader(Dataset,batch_size=config.batch_size,shuffle=True)\n",
    "model = MultiLSTM(n_layer=2)\n",
    "model = model.to(device)\n",
    "\n",
    "len(Dataset)\n",
    "\n"
   ]
  },
  {
   "cell_type": "code",
   "execution_count": 15,
   "metadata": {},
   "outputs": [
    {
     "data": {
      "text/plain": [
       "5"
      ]
     },
     "execution_count": 15,
     "metadata": {},
     "output_type": "execute_result"
    }
   ],
   "source": [
    "len(dataloader)"
   ]
  },
  {
   "cell_type": "code",
   "execution_count": 16,
   "metadata": {},
   "outputs": [
    {
     "name": "stdout",
     "output_type": "stream",
     "text": [
      "Inputs: torch.Size([1032, 200])\n",
      "Labels: torch.Size([1032, 200])\n"
     ]
    }
   ],
   "source": [
    "for batch in dataloader:\n",
    "    inputs,labels = batch\n",
    "    print(\"Inputs:\", inputs.shape)\n",
    "    print(\"Labels:\", labels.shape)\n",
    "    break\n",
    "    "
   ]
  },
  {
   "cell_type": "code",
   "execution_count": 17,
   "metadata": {},
   "outputs": [
    {
     "name": "stdout",
     "output_type": "stream",
     "text": [
      "MultiLSTM(\n",
      "  (sequence): ModuleList(\n",
      "    (0): LSTM(\n",
      "      (Wr): Linear(in_features=288, out_features=256, bias=True)\n",
      "      (Wu): Linear(in_features=288, out_features=256, bias=True)\n",
      "      (Wf): Linear(in_features=288, out_features=256, bias=True)\n",
      "      (Wo): Linear(in_features=288, out_features=256, bias=True)\n",
      "      (Wc): Linear(in_features=288, out_features=256, bias=True)\n",
      "      (Wy): Linear(in_features=256, out_features=64, bias=True)\n",
      "      (dropout): Dropout(p=0.2, inplace=False)\n",
      "      (ln_r): LayerNorm((256,), eps=1e-05, elementwise_affine=True)\n",
      "      (ln_f): LayerNorm((256,), eps=1e-05, elementwise_affine=True)\n",
      "      (ln_u): LayerNorm((256,), eps=1e-05, elementwise_affine=True)\n",
      "      (ln_o): LayerNorm((256,), eps=1e-05, elementwise_affine=True)\n",
      "      (ln_c): LayerNorm((256,), eps=1e-05, elementwise_affine=True)\n",
      "    )\n",
      "    (1): LayerNorm((64,), eps=1e-05, elementwise_affine=True)\n",
      "    (2): LSTM(\n",
      "      (Wr): Linear(in_features=192, out_features=128, bias=True)\n",
      "      (Wu): Linear(in_features=192, out_features=128, bias=True)\n",
      "      (Wf): Linear(in_features=192, out_features=128, bias=True)\n",
      "      (Wo): Linear(in_features=192, out_features=128, bias=True)\n",
      "      (Wc): Linear(in_features=192, out_features=128, bias=True)\n",
      "      (Wy): Linear(in_features=128, out_features=86, bias=True)\n",
      "      (dropout): Dropout(p=0.2, inplace=False)\n",
      "      (ln_r): LayerNorm((128,), eps=1e-05, elementwise_affine=True)\n",
      "      (ln_f): LayerNorm((128,), eps=1e-05, elementwise_affine=True)\n",
      "      (ln_u): LayerNorm((128,), eps=1e-05, elementwise_affine=True)\n",
      "      (ln_o): LayerNorm((128,), eps=1e-05, elementwise_affine=True)\n",
      "      (ln_c): LayerNorm((128,), eps=1e-05, elementwise_affine=True)\n",
      "    )\n",
      "  )\n",
      "  (Embedding): Embedding(86, 32)\n",
      ")\n"
     ]
    }
   ],
   "source": [
    "# # defconfig2 = config2()\n",
    "# # Tokenizer = BPETokenizer()\n",
    "# # DataLoader = CustomDataset(defconfig2,Tokenizer,'../input.text')\n",
    "# # model = LSTM(defconfig2)\n",
    "# # model = model.to(device)\n",
    "# # print(defconfig2)\n",
    "print(model)"
   ]
  },
  {
   "cell_type": "code",
   "execution_count": null,
   "metadata": {},
   "outputs": [],
   "source": [
    "optimizer = torch.optim.AdamW(model.parameters(),lr = 3e-3)\n",
    "criterion = nn.CrossEntropyLoss()"
   ]
  },
  {
   "cell_type": "code",
   "execution_count": 19,
   "metadata": {},
   "outputs": [
    {
     "name": "stdout",
     "output_type": "stream",
     "text": [
      "527702\n"
     ]
    }
   ],
   "source": [
    "print(sum(p.numel() for p in model.parameters()))\n",
    "import os\n",
    "save_dir = \"MultiLSTM_checkpoints\"\n",
    "os.makedirs(save_dir, exist_ok=True)"
   ]
  },
  {
   "cell_type": "code",
   "execution_count": 20,
   "metadata": {},
   "outputs": [
    {
     "name": "stderr",
     "output_type": "stream",
     "text": [
      "C:\\Users\\kumar\\AppData\\Local\\Temp\\ipykernel_14140\\2121524368.py:2: FutureWarning: You are using `torch.load` with `weights_only=False` (the current default value), which uses the default pickle module implicitly. It is possible to construct malicious pickle data which will execute arbitrary code during unpickling (See https://github.com/pytorch/pytorch/blob/main/SECURITY.md#untrusted-models for more details). In a future release, the default value for `weights_only` will be flipped to `True`. This limits the functions that could be executed during unpickling. Arbitrary objects will no longer be allowed to be loaded via this mode unless they are explicitly allowlisted by the user via `torch.serialization.add_safe_globals`. We recommend you start setting `weights_only=True` for any use case where you don't have full control of the loaded file. Please open an issue on GitHub for any issues related to this experimental feature.\n",
      "  Draft = torch.load(checkpoint)\n"
     ]
    }
   ],
   "source": [
    "\n",
    "checkpoint = os.path.join(save_dir, \"mltiLSTMmodel6.pt\")\n",
    "Draft = torch.load(checkpoint)\n",
    "model.load_state_dict(Draft['model_state_dict'])\n",
    "optimizer.load_state_dict(Draft['optimizer_state_dict'])"
   ]
  },
  {
   "cell_type": "code",
   "execution_count": null,
   "metadata": {},
   "outputs": [
    {
     "name": "stderr",
     "output_type": "stream",
     "text": [
      "Training: 100%|██████████| 50/50 [14:39<00:00, 17.59s/it, epoch loss=0.988]"
     ]
    },
    {
     "name": "stdout",
     "output_type": "stream",
     "text": [
      "Final model saved to MultiLSTM_checkpoints\\mltiLSTMmodel6.pt\n"
     ]
    },
    {
     "name": "stderr",
     "output_type": "stream",
     "text": [
      "\n"
     ]
    }
   ],
   "source": [
    "from tqdm import tqdm\n",
    "num_epochs = 50\n",
    "pbar = tqdm(range(num_epochs),desc='Training')\n",
    "lossi = []\n",
    "epoch_lossi = []\n",
    "for epoch in pbar:\n",
    "    epoch_loss = 0\n",
    "    for batch in dataloader:\n",
    "        optimizer.zero_grad()\n",
    "        x,y = batch\n",
    "        x,y = x.to(device),y.to(device)\n",
    "        logits = model(x)\n",
    "        B,T,C = logits.shape\n",
    "        logits = logits.view(B*T,-1)\n",
    "        y = y.view(-1)\n",
    "        loss = criterion(logits,y)\n",
    "        lossi.append(loss.item())\n",
    "        epoch_loss += loss.item()\n",
    "        loss.backward() \n",
    "        optimizer.step()\n",
    "        torch.cuda.empty_cache()\n",
    "    epoch_loss /= len(dataloader)\n",
    "    epoch_lossi.append(epoch_loss)\n",
    "    if epoch % (num_epochs //10) == 0 or epoch == num_epochs - 1:\n",
    "        pbar.set_postfix({\"epoch loss\": epoch_loss})\n",
    "final_checkpoint_path1 = os.path.join(save_dir, \"mltiLSTMmodel6.pt\")\n",
    "torch.save({\n",
    "    'model_state_dict': model.state_dict(),\n",
    "    'optimizer_state_dict': optimizer.state_dict(),\n",
    "}, final_checkpoint_path1)\n",
    "print(f\"Final model saved to {final_checkpoint_path1}\")  \n",
    "    "
   ]
  },
  {
   "cell_type": "code",
   "execution_count": 42,
   "metadata": {},
   "outputs": [
    {
     "data": {
      "text/plain": [
       "[<matplotlib.lines.Line2D at 0x2cd002bbdd0>]"
      ]
     },
     "execution_count": 42,
     "metadata": {},
     "output_type": "execute_result"
    },
    {
     "data": {
      "image/png": "[encoded data removed]",
      "text/plain": [
       "<Figure size 640x480 with 1 Axes>"
      ]
     },
     "metadata": {},
     "output_type": "display_data"
    }
   ],
   "source": [
    "plt.plot(lossi[:])"
   ]
  },
  {
   "cell_type": "code",
   "execution_count": 43,
   "metadata": {},
   "outputs": [
    {
     "data": {
      "text/plain": [
       "[<matplotlib.lines.Line2D at 0x2cd0135b3b0>]"
      ]
     },
     "execution_count": 43,
     "metadata": {},
     "output_type": "execute_result"
    },
    {
     "data": {
      "image/png": "[encoded data removed]",
      "text/plain": [
       "<Figure size 640x480 with 1 Axes>"
      ]
     },
     "metadata": {},
     "output_type": "display_data"
    }
   ],
   "source": [
    "plt.plot(epoch_lossi)"
   ]
  },
  {
   "cell_type": "code",
   "execution_count": 37,
   "metadata": {},
   "outputs": [
    {
     "data": {
      "text/plain": [
       "0.988180410861969"
      ]
     },
     "execution_count": 37,
     "metadata": {},
     "output_type": "execute_result"
    }
   ],
   "source": [
    "epoch_lossi[-1]"
   ]
  },
  {
   "cell_type": "code",
   "execution_count": null,
   "metadata": {},
   "outputs": [
    {
     "name": "stdout",
     "output_type": "stream",
     "text": [
      "Generated text:\n",
      " .\n",
      "\n",
      "JULIET:\n",
      "A chaes, I make lies upon me gain,\n",
      "Not ne! Yones, you all confectud him:\n",
      "Who may answer'd; I know my heart\n",
      "Some half: be most upon my lord Grey.\n",
      "Some hot it is proceed's waigher:\n",
      "And as it is on myself in this feat; for or very like\n",
      "What cour brother such 'cadtness.\n",
      "\n",
      "HASTINGS:\n",
      "He cannot love it cleas he comes together, a taruonder\n",
      "O' the warden else be mine.\n",
      "So, say the noises and Flance there comes by her kinds,\n",
      "CountenNLike him of sound\n",
      "Hath had lie my puper ignor, relish'd.\n",
      "\n",
      "PERDITA:\n",
      "O love!\n",
      "\n",
      "ANGELO:\n",
      "For I will revenges Warigains.\n",
      "\n",
      "SEBASTIAN:\n",
      "'Shall be a lower him from ou so.\n",
      "\n",
      "LUCIO:\n",
      "I had, beseech you, love; h\n"
     ]
    }
   ],
   "source": [
    "# Sampling example\n",
    "txt = \"\"\"LORD STANLEY:\n",
    "Let me but meet you, ladies,\"\"\"\n",
    "generated_text = model.genecxrate(\".\",Tokenizer,500,context_size=150)\n",
    "print(\"Generated text:\\n\", generated_text)\n"
   ]
  },
  {
   "cell_type": "code",
   "execution_count": 40,
   "metadata": {},
   "outputs": [],
   "source": [
    "txt = \"\"\"Nurse:\n",
    "Ay, if I thy give sweetly sweet and country\n",
    "us! to I make enjoiced the complaint wized myself\n",
    "your reportune, and what you are to do not paise but yours:\n",
    "You so heaven and all together tords yourself Joves grown,\n",
    "His sin answan is importance. I beseech you to have\n",
    "I pleffend me to be: ah, good Kather,\n",
    "Farewell; foolies well; be bold, if you'rs cold,\n",
    "Which protectors, or only grief, are head\n",
    "Host-looks looker; for't prothest; as thou well a'\n",
    "That courtiest you play your hearts.\n",
    "\n",
    "TYBALLT:\n",
    "Marry, you were he bewell answer.\n",
    "\n",
    "KING RICHARD II:\n",
    "Sly, we are Plantaguent, leve in Stanly long.\n",
    "\n",
    "BUCKINGHAM:\n",
    "Why, thou setst by this gentleman,\n",
    "The Eart night's body more are time by-hanging,\n",
    "Than well repenting her butterings took for from\n",
    "From London was thence snot--bald by them but a paer;\n",
    "Nerry, came by thy numbery.\n",
    "Readed and gentle roan to his glorand.\n",
    "\n",
    "RICHARD:\n",
    "No, I:\n",
    "Daughter, do you no denier: 'tis not thither\n",
    "\"\"\"\n",
    "generated_text1 = model.generate(txt,Tokenizer,1000,150)\n",
    "\n"
   ]
  },
  {
   "cell_type": "code",
   "execution_count": null,
   "metadata": {},
   "outputs": [
    {
     "data": {
      "text/plain": [
       "2197"
      ]
     },
     "execution_count": 41,
     "metadata": {},
     "output_type": "execute_result"
    }
   ],
   "source": [
    "open('MultiLSTM02.txt', 'w').write(generated_text1)"
   ]
  },
  {
   "cell_type": "code",
   "execution_count": null,
   "metadata": {},
   "outputs": [],
   "source": []
  }
 ],
 "metadata": {
  "kernelspec": {
   "display_name": "Python 3",
   "language": "python",
   "name": "python3"
  },
  "language_info": {
   "codemirror_mode": {
    "name": "ipython",
    "version": 3
   },
   "file_extension": ".py",
   "mimetype": "text/x-python",
   "name": "python",
   "nbconvert_exporter": "python",
   "pygments_lexer": "ipython3",
   "version": "3.12.6"
  }
 },
 "nbformat": 4,
 "nbformat_minor": 2
}
