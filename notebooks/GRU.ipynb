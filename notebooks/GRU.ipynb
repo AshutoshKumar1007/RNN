{
 "cells": [
  {
   "cell_type": "code",
   "execution_count": 2,
   "id": "bea1445d",
   "metadata": {},
   "outputs": [],
   "source": [
    "import torch \n",
    "import torch.nn as nn\n",
    "import torch.nn.functional as F\n",
    "import matplotlib.pyplot as plt \n",
    "from tqdm import tqdm\n",
    "from dataclasses import dataclass\n",
    "device = 'cuda' if torch.cuda.is_available() else 'cpu'"
   ]
  },
  {
   "cell_type": "code",
   "execution_count": 3,
   "id": "000cb1d2",
   "metadata": {},
   "outputs": [],
   "source": [
    "with open('../DATA/input.txt','r',encoding='utf-8') as f:\n",
    "    text = f.read()\n",
    "vocab = sorted(list(set(text)))\n",
    "vocab\n",
    "vocab_size = len(vocab)\n",
    "vocab_size\n",
    "stoi = {ch:i for i,ch in enumerate(vocab)}\n",
    "itos = {i:ch for i,ch in enumerate(vocab)}\n",
    "encode    = lambda s: [stoi[c] for c in s] # encoder: take a string, output a list of integers\n",
    "decode = lambda l: ''.join([itos[i] for i in l]) # decoder: take a list of integers, output a string\n",
    "data = torch.tensor(encode(text),dtype=torch.long)\n",
    "\n",
    "#data loading \n",
    "def get_batch(config):\n",
    "    # generate a small batch of data of inputs x and targets y\n",
    "    ix = torch.randint(len(data) - config.block_size, (config.batch_size,))\n",
    "    x = torch.stack([data[i:i+config.block_size] for i in ix])\n",
    "    y = torch.stack([data[i+1:i+config.block_size+1] for i in ix])\n",
    "    x, y = x.to(device), y.to(device)\n",
    "    return x, y\n",
    "\"\"\"Introducing bite-pair encoding to inc vocab_size\"\"\"\n",
    "class TOkenizer:\n",
    "    def __init__(self,Text,vocab_size = 84):\n",
    "        self.Text = Text \n",
    "        self.tokens = list(map(int,self.Text))\n",
    "        self.num_merges = vocab_size - 65\n",
    "        self.merges = {}\n",
    "        for i in range(self.num_merges):\n",
    "            stats = self.get_stats(self.tokens)\n",
    "            pair = max(stats,key=stats.get)\n",
    "            idx = 65 + i\n",
    "            self.tokens = self.merge(self.tokens,pair,idx)\n",
    "            self.merges[pair] = idx            \n",
    "    def merge(self,ids,pair,idx):\n",
    "        newids = []\n",
    "        i = 0\n",
    "        while i < len(ids):\n",
    "            if i < len(ids) - 1 and ids[i] == pair[0] and ids[i+1] == pair[1]:\n",
    "                newids.append(idx)\n",
    "                i += 2\n",
    "            else:\n",
    "                newids.append(ids[i])\n",
    "                i += 1\n",
    "        return newids\n",
    "    def get_stats(self,ids = None):\n",
    "        if ids is None :\n",
    "            ids = self.tokens\n",
    "        counts = {}\n",
    "        for pair in zip(ids,ids[1:]):\n",
    "            counts[pair] = counts.get(pair,0) + 1\n",
    "        return counts   \n",
    "    def encode(self,text):\n",
    "        pass\n",
    "    def decode(self,ids):\n",
    "        tokens = b\"\".join(vocab[idx] for idx in ids)\n",
    "        text = tokens.decode('utf-8',errors='replace')\n",
    "        return text\n",
    "        "
   ]
  },
  {
   "cell_type": "code",
   "execution_count": 4,
   "id": "a719c046",
   "metadata": {},
   "outputs": [],
   "source": [
    "class DataLoader:\n",
    "    def __init__(self,B,T):\n",
    "        self.B = B\n",
    "        self.T = T\n",
    "        with open('../DATA/input.txt', 'r', encoding='utf-8') as f:\n",
    "            text = f.read()\n",
    "        tokens = encode(text)\n",
    "        self.tokens = torch.tensor(tokens)\n",
    "        print(f'loaded {len(self.tokens)} tokens')\n",
    "        print(f'1 epoch = {len(self.tokens)//(B*T)} batches ')\n",
    "        # state\n",
    "    def __len__(self):\n",
    "        return len(self.tokens)\n",
    "    def next_batch(self):\n",
    "        B,T = self.B,self.T\n",
    "        starting_point = torch.randint(0,(len(self.tokens) - T - 1),(1,)).item()\n",
    "        # starting from startpoint we sample B consective batches of length T, and if we got out of bound we use kinda circular approach\n",
    "        idxs = torch.arange(starting_point,starting_point + B*T + 1)% len(self.tokens)\n",
    "        buf = self.tokens[idxs].clone()\n",
    "        x = buf[:-1].view(B,T) \n",
    "        y = buf[1:].view(B,T)\n",
    "        return x,y"
   ]
  },
  {
   "cell_type": "code",
   "execution_count": 5,
   "id": "75cdb394",
   "metadata": {},
   "outputs": [],
   "source": [
    "@dataclass\n",
    "class GRUconfig:\n",
    "    vocab_size :int = 65\n",
    "    n_embd :int = 384\n",
    "    block_size :int = 256\n",
    "    c_size :int = 512  # will act as dim of the hidden-memory\n",
    "    batch_size :int = 512#2048#1024*2\n",
    "\n",
    "\n",
    "class GRU(nn.Module):\n",
    "    \"\"\"\n",
    "    we will we having 2 gates r(reset gate) and u(update gate)\n",
    "    reset gate will decide what part of the previous state has to be transfered to the current hidden state\n",
    "    and update gate decides the ratio between the previous information and current hidden state information \n",
    "    has to be passed to the current memory.\n",
    "    self._c refers to the ~c<t> which is candidate hidden memory\n",
    "    \"\"\"\n",
    "    def __init__(self,config):\n",
    "        super().__init__()\n",
    "        self.config = config\n",
    "        self.embd = nn.Embedding(self.config.vocab_size,self.config.n_embd) # Embedding matrix\n",
    "        self.r = nn.Linear(in_features=self.config.c_size + self.config.n_embd,out_features=self.config.c_size)\n",
    "        self.u = nn.Linear(in_features=self.config.c_size + self.config.n_embd,out_features=self.config.c_size)\n",
    "        self._c = nn.Linear(in_features=self.config.c_size + self.config.n_embd,out_features=self.config.c_size)\n",
    "        self.Wy = nn.Linear(self.config.c_size,self.config.vocab_size)\n",
    "        self.sigmoid = torch.sigmoid\n",
    "        self.dropout = nn.Dropout(0.2)\n",
    "\n",
    "    def forward(self,x,c0=None):\n",
    "\n",
    "        # we have to make sure x has dim(batch_size,block_size)\n",
    "        B,T = x.shape\n",
    "        if c0 is None:\n",
    "            c0 = torch.zeros(B,self.config.c_size,device=device) # intial memory as zero vector with No bias \n",
    "        \"\"\"Broadcasting will take care of batch dim\"\"\"\n",
    "        x = self.embd(x) # introduces a extra dim (batch_size,T,n_embd)\n",
    "        output = []\n",
    "        for i in range(T):\n",
    "            x_t = x[:,i,:] #ith token from each batch  (B,n_embd)\n",
    "            x_t = self.dropout(x_t)\n",
    "            #unified input to the gates\n",
    "            unified_input = torch.cat((c0,x_t),dim=1)  # (B, c_size + n_embd)\n",
    "            # shouldn't add dropout to the unified input as it disrupts the input to the gates\n",
    "            # Gates \n",
    "            reset = self.sigmoid(self.r(unified_input)) # (B,c_size)\n",
    "            update = self.sigmoid(self.u(unified_input)) # (B,c_size)\n",
    "            # Candidate hidden state\n",
    "            candidate = F.gelu(self._c(torch.cat((c0*reset,x_t),dim=1)))  # (B,c_size)\n",
    "            \n",
    "            # Candidate memory with skip connection\n",
    "            current_memory = update*candidate + (1 - update)*c0\n",
    "            c0 = current_memory # updated memory \n",
    "                    \n",
    "            current_memory = self.dropout(current_memory)\n",
    "            y = self.Wy(current_memory)\n",
    "            output.append(y)\n",
    "        logits = torch.stack(output,dim=1)\n",
    "        return logits,c0\n",
    "    def Generate(self,idx,new_tokens = 500):\n",
    "        # we expect a batch of input as a list of tokens\n",
    "        \"\"\" \n",
    "        if initial token is null --> we are good to go with that\n",
    "        else if initial token isn't null --> what we do is, firstly we will\n",
    "        feed these tokens to the network and let it update the hidden memory and\n",
    "        atlast we just need the last tokken and last memory which will act as the a0\n",
    "\n",
    "        we generate new tokens we append them to the existing token and then use the last genrated token as \n",
    "        the next char\n",
    "        \"\"\"\n",
    "        self.eval()\n",
    "        for _ in range(new_tokens):\n",
    "            idx_cond = idx[:,-self.config.block_size:]  # selecting the newest block_size tokkens to generate the next tokken\n",
    "            logits,memory = self(idx_cond) #this will generate the all outputs and memory, but we just need the last logit\n",
    "            logits = logits[:,-1,:] # (Batch_size,vocab_size)\n",
    "            # now we need to apply the softmax or eqivalent of the softmax\n",
    "            probs = F.softmax(logits,dim=1)\n",
    "            idx_next = torch.multinomial(probs,num_samples=1) #(B,1)\n",
    "            #append it to the end\n",
    "            idx = torch.cat((idx,idx_next),dim=1)\n",
    "        return idx\n",
    "\n",
    "        \n",
    "            \n",
    "\n",
    "\n",
    "\n",
    "\n",
    "\n",
    "        "
   ]
  },
  {
   "cell_type": "code",
   "execution_count": 6,
   "id": "3f1b3ac8",
   "metadata": {},
   "outputs": [
    {
     "name": "stdout",
     "output_type": "stream",
     "text": [
      "True\n",
      "loaded 1115394 tokens\n",
      "1 epoch = 8 batches \n"
     ]
    },
    {
     "data": {
      "text/plain": [
       "1115394"
      ]
     },
     "execution_count": 6,
     "metadata": {},
     "output_type": "execute_result"
    }
   ],
   "source": [
    "\n",
    "default_config = GRUconfig()\n",
    "model = GRU(default_config)\n",
    "model.to(device=device)\n",
    "# model.embd.weight.requires_grad = False\n",
    "print(model.embd.weight.requires_grad)  # Should print: False\n",
    "\n",
    "train_loader = DataLoader(default_config.batch_size,default_config.block_size)\n",
    "len(train_loader)"
   ]
  },
  {
   "cell_type": "code",
   "execution_count": 7,
   "id": "e545a7a5",
   "metadata": {},
   "outputs": [],
   "source": [
    "optimizer = torch.optim.AdamW( [param for param in model.parameters() if param.requires_grad],lr=1e-3,weight_decay=1e-4)\n",
    "criterion = nn.CrossEntropyLoss()"
   ]
  },
  {
   "cell_type": "code",
   "execution_count": 8,
   "id": "ffd2860a",
   "metadata": {},
   "outputs": [],
   "source": [
    "import os\n",
    "save_dir = \"GRU_checkpoints\"\n",
    "os.makedirs(save_dir, exist_ok=True)\n"
   ]
  },
  {
   "cell_type": "code",
   "execution_count": 9,
   "id": "48f7c3b7",
   "metadata": {},
   "outputs": [],
   "source": [
    "scheduler = torch.optim.lr_scheduler.CosineAnnealingLR(optimizer,T_max=50)\n"
   ]
  },
  {
   "cell_type": "code",
   "execution_count": 10,
   "id": "53b56b72",
   "metadata": {},
   "outputs": [],
   "source": [
    "# optimizer.param_groups[0]['betas'] = (0.6,0.97)\n",
    "# optimizer.param_groups[0]['lr'] = 1e-6"
   ]
  },
  {
   "cell_type": "code",
   "execution_count": null,
   "id": "edd50261",
   "metadata": {},
   "outputs": [],
   "source": [
    "\n",
    "# checkpoint = os.path.join(save_dir, \"checkpoint499.pt\")\n",
    "# Draft = torch.load(checkpoint)\n",
    "# model.load_state_dict(Draft['model_state_dict'])\n",
    "# optimizer.load_state_dict(Draft['optimizer_state_dict'])"
   ]
  },
  {
   "cell_type": "code",
   "execution_count": null,
   "id": "f493a22e",
   "metadata": {},
   "outputs": [
    {
     "name": "stderr",
     "output_type": "stream",
     "text": [
      "Training:   0%|          | 0/500 [00:00<?, ?it/s]"
     ]
    },
    {
     "name": "stderr",
     "output_type": "stream",
     "text": [
      "Training: 100%|██████████| 500/500 [24:06<00:00,  2.89s/it, loss=1.48]"
     ]
    },
    {
     "name": "stdout",
     "output_type": "stream",
     "text": [
      "Final model saved to GRU_checkpoints\\checkpoint499.pt\n"
     ]
    },
    {
     "name": "stderr",
     "output_type": "stream",
     "text": [
      "\n"
     ]
    }
   ],
   "source": [
    "num_epochs = 500\n",
    "pbar = tqdm(range(num_epochs),desc=\"Training\")\n",
    "lossi = []\n",
    "torch.nn.utils.clip_grad_norm_(model.parameters(), max_norm=1.0)\n",
    "for epoch in pbar:\n",
    "    x,y = train_loader.next_batch()\n",
    "    x,y = x.to(device),y.to(device)\n",
    "    logits,_ = model(x)\n",
    "    B,T,C = logits.shape\n",
    "    logits = logits.view(B*T,-1)\n",
    "    y = y.view(-1)\n",
    "    loss = criterion(logits,y)\n",
    "    lossi.append(loss.item())\n",
    "    optimizer.zero_grad()\n",
    "    loss.backward()\n",
    "    optimizer.step()\n",
    "    # Step the scheduler\n",
    "    scheduler.step()\n",
    "    torch.cuda.empty_cache()\n",
    "    if epoch % 10 == 0 or epoch == num_epochs - 1:\n",
    "        pbar.set_postfix({\"loss\": loss.item()})\n",
    "        \n",
    "#Save the final model checkpoint\n",
    "final_checkpoint_path = os.path.join(save_dir, f\"checkpoint{epoch}.pt\")\n",
    "torch.save({\n",
    "    'model_state_dict': model.state_dict(),\n",
    "    'optimizer_state_dict': optimizer.state_dict(),\n",
    "}, final_checkpoint_path)\n",
    "print(f\"Final model saved to {final_checkpoint_path}\")  \n"
   ]
  },
  {
   "cell_type": "code",
   "execution_count": null,
   "id": "ccc95d55",
   "metadata": {},
   "outputs": [
    {
     "data": {
      "text/plain": [
       "[<matplotlib.lines.Line2D at 0x257fec859a0>]"
      ]
     },
     "execution_count": 11,
     "metadata": {},
     "output_type": "execute_result"
    },
    {
     "data": {
      "image/png": "[encoded data removed]",
      "text/plain": [
       "<Figure size 640x480 with 1 Axes>"
      ]
     },
     "metadata": {},
     "output_type": "display_data"
    }
   ],
   "source": [
    "plt.plot(lossi)"
   ]
  },
  {
   "cell_type": "code",
   "execution_count": 14,
   "id": "d013354d",
   "metadata": {},
   "outputs": [
    {
     "name": "stdout",
     "output_type": "stream",
     "text": [
      "Generated text:\n",
      "Servant: \n",
      "Where is thus; sweet so far courtainsried,  \n",
      "Do mean you with your hand.\n",
      "\n",
      "LUCIO:\n",
      "I'll report you from such a profect live,\n",
      "She hath roth he made to give me down.\n",
      "\n",
      "Whereiney Murderer:\n",
      "Were now drom thy mother! be?\n",
      "\n",
      "QUEEN MARGARET:\n",
      "Where, you sound's matting hear life and tame up am a dictions?\n",
      "Procose ears daughter on that: Comif our prant:\n",
      "Nay, I guen duked, 'tis turn; he weeps!\n",
      "Who say O, most tritmes, not be people.\n",
      "Gone voice, be eachly truth the faint, for our scorn repent to with their honour should\n",
      "for miney request of my dear.\n",
      "\n",
      "CORI\n"
     ]
    }
   ],
   "source": [
    "# Sampling example\n",
    "txt = '''Servant: \n",
    "Where is thus; sweet so far courtainsried, '''\n",
    "tok = encode(txt)\n",
    "tok = torch.tensor(tok,dtype=torch.long,device=device).reshape(1,-1)\n",
    "idx = torch.zeros((1, 1), dtype=torch.long, device=device)\n",
    "generated_text = model.Generate(idx,500)\n",
    "print(f\"Generated text:\\n{txt}\", decode(generated_text[0].tolist()))\n",
    "\n"
   ]
  },
  {
   "cell_type": "code",
   "execution_count": 13,
   "id": "c0611d62",
   "metadata": {},
   "outputs": [
    {
     "data": {
      "text/plain": [
       "1001"
      ]
     },
     "execution_count": 13,
     "metadata": {},
     "output_type": "execute_result"
    }
   ],
   "source": [
    "open('more.txt', 'w').write(decode(model.Generate(idx,1000)[0].tolist()))"
   ]
  }
 ],
 "metadata": {
  "kernelspec": {
   "display_name": "Python 3",
   "language": "python",
   "name": "python3"
  },
  "language_info": {
   "codemirror_mode": {
    "name": "ipython",
    "version": 3
   },
   "file_extension": ".py",
   "mimetype": "text/x-python",
   "name": "python",
   "nbconvert_exporter": "python",
   "pygments_lexer": "ipython3",
   "version": "3.12.6"
  }
 },
 "nbformat": 4,
 "nbformat_minor": 5
}
